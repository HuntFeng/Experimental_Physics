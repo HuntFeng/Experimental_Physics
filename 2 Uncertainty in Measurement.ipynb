{
 "cells": [
  {
   "cell_type": "markdown",
   "metadata": {},
   "source": [
    "# Uncertainty in Measurement\n",
    "Learn Numpy by reviewing the basic statistics in experimental physics.\n",
    "\n",
    "To learn more about this, see chapter 2 of \"Measurements and their Uncertainties\" by Hughes."
   ]
  },
  {
   "cell_type": "markdown",
   "metadata": {},
   "source": [
    "## Import statement\n",
    "* `import numpy` imports the numpy package\n",
    "* `import numpy as np` imports the numpy package and rename it as np"
   ]
  },
  {
   "cell_type": "code",
   "execution_count": 10,
   "metadata": {},
   "outputs": [],
   "source": [
    "import numpy"
   ]
  },
  {
   "cell_type": "code",
   "execution_count": 12,
   "metadata": {},
   "outputs": [
    {
     "data": {
      "text/plain": [
       "-1.0"
      ]
     },
     "execution_count": 12,
     "metadata": {},
     "output_type": "execute_result"
    }
   ],
   "source": [
    "numpy.cos(numpy.pi)"
   ]
  },
  {
   "cell_type": "code",
   "execution_count": 13,
   "metadata": {},
   "outputs": [],
   "source": [
    "import numpy as np"
   ]
  },
  {
   "cell_type": "code",
   "execution_count": 14,
   "metadata": {},
   "outputs": [
    {
     "data": {
      "text/plain": [
       "-1.0"
      ]
     },
     "execution_count": 14,
     "metadata": {},
     "output_type": "execute_result"
    }
   ],
   "source": [
    "np.cos(np.pi)"
   ]
  },
  {
   "cell_type": "markdown",
   "metadata": {},
   "source": [
    "## Some useful functions in numpy\n",
    "* `np.mean` calculates the mean value of a chunk of numbers\n",
    "* `np.std` calculates the standard deviation of a chunk of numbers"
   ]
  },
  {
   "cell_type": "code",
   "execution_count": 15,
   "metadata": {},
   "outputs": [],
   "source": [
    "data = [1,2,3,4,5,6,7,8,9,10]"
   ]
  },
  {
   "cell_type": "code",
   "execution_count": 16,
   "metadata": {},
   "outputs": [
    {
     "data": {
      "text/plain": [
       "5.5"
      ]
     },
     "execution_count": 16,
     "metadata": {},
     "output_type": "execute_result"
    }
   ],
   "source": [
    "np.mean(data)"
   ]
  },
  {
   "cell_type": "code",
   "execution_count": 17,
   "metadata": {},
   "outputs": [
    {
     "data": {
      "text/plain": [
       "2.8722813232690143"
      ]
     },
     "execution_count": 17,
     "metadata": {},
     "output_type": "execute_result"
    }
   ],
   "source": [
    "# population std\n",
    "np.std(data)"
   ]
  },
  {
   "cell_type": "markdown",
   "metadata": {},
   "source": [
    "Be careful, the formula for standard deviation in numpy is\n",
    "$$ \\sigma_x = \\sqrt{ \\frac{1}{N-ddof}\\sum_{i=1}^{N}x_i } $$\n",
    "where `ddof` means delta degrees of freedom, and default value of `ddof` is 0 (so `np.std` gives you population std).\n",
    "\n",
    "If you want sample std, you need to specify that `ddof=1` by using command `np.std(data, ddof=1)`\n",
    "\n",
    "For more details, see [documentation](https://numpy.org/doc/stable/reference/generated/numpy.std.html)."
   ]
  },
  {
   "cell_type": "code",
   "execution_count": 21,
   "metadata": {
    "scrolled": true
   },
   "outputs": [
    {
     "data": {
      "text/plain": [
       "0.08462667114679483"
      ]
     },
     "execution_count": 21,
     "metadata": {},
     "output_type": "execute_result"
    }
   ],
   "source": [
    "# sample std\n",
    "np.std(data,ddof=1)"
   ]
  },
  {
   "cell_type": "markdown",
   "metadata": {},
   "source": [
    "## Import data \n",
    "* `np.genfromtxt(file_path)` loads data at file_path \n",
    "Some useful arguments:\n",
    "* `delimiter`: you can specify the delimiter in the file\n",
    "* `skip_header`: you can decide to skip the header\n",
    "\n",
    "For more details: [documentation](https://numpy.org/doc/stable/reference/generated/numpy.genfromtxt.html)."
   ]
  },
  {
   "cell_type": "code",
   "execution_count": 25,
   "metadata": {},
   "outputs": [],
   "source": [
    "data = np.genfromtxt(\n",
    "    \"data/pendulum.csv\", \n",
    "    delimiter=',', \n",
    "    skip_header=True\n",
    ")"
   ]
  },
  {
   "cell_type": "code",
   "execution_count": 26,
   "metadata": {},
   "outputs": [
    {
     "data": {
      "text/plain": [
       "array([[0.95, 0.96, 1.1 , 1.17, 1.09],\n",
       "       [1.03, 1.  , 0.86, 0.86, 0.95],\n",
       "       [1.08, 1.01, 0.87, 1.06, 1.04],\n",
       "       [1.01, 1.15, 1.24, 1.01, 0.98],\n",
       "       [1.03, 1.05, 0.94, 1.21, 1.09],\n",
       "       [0.94, 1.01, 1.11, 1.07, 1.02],\n",
       "       [1.  , 1.07, 0.95, 1.04, 0.99],\n",
       "       [1.  , 1.13, 0.98, 0.97, 1.08],\n",
       "       [1.07, 0.98, 0.88, 1.11, 1.06],\n",
       "       [1.04, 0.92, 0.97, 1.15, 1.05]])"
      ]
     },
     "execution_count": 26,
     "metadata": {},
     "output_type": "execute_result"
    }
   ],
   "source": [
    "data"
   ]
  },
  {
   "cell_type": "markdown",
   "metadata": {},
   "source": [
    "## Numpy array indexing\n",
    "* use `data[i,j]` to access the value at i-th row j-th column\n",
    "* use `data[n:m,j]` to access n-th to m-th values at j-th column\n",
    "* use `data[i,n:m]` to access n-th to m-th values at i-th row\n",
    "* `:m` means from 0 to m-1; `n:` means from n to end; `:` means from begin to end"
   ]
  },
  {
   "cell_type": "code",
   "execution_count": 27,
   "metadata": {},
   "outputs": [
    {
     "data": {
      "text/plain": [
       "array([[0.95, 0.96, 1.1 , 1.17, 1.09],\n",
       "       [1.03, 1.  , 0.86, 0.86, 0.95],\n",
       "       [1.08, 1.01, 0.87, 1.06, 1.04],\n",
       "       [1.01, 1.15, 1.24, 1.01, 0.98],\n",
       "       [1.03, 1.05, 0.94, 1.21, 1.09],\n",
       "       [0.94, 1.01, 1.11, 1.07, 1.02],\n",
       "       [1.  , 1.07, 0.95, 1.04, 0.99],\n",
       "       [1.  , 1.13, 0.98, 0.97, 1.08],\n",
       "       [1.07, 0.98, 0.88, 1.11, 1.06],\n",
       "       [1.04, 0.92, 0.97, 1.15, 1.05]])"
      ]
     },
     "execution_count": 27,
     "metadata": {},
     "output_type": "execute_result"
    }
   ],
   "source": [
    "data"
   ]
  },
  {
   "cell_type": "code",
   "execution_count": 31,
   "metadata": {},
   "outputs": [
    {
     "data": {
      "text/plain": [
       "0.96"
      ]
     },
     "execution_count": 31,
     "metadata": {},
     "output_type": "execute_result"
    }
   ],
   "source": [
    "data[0,1]"
   ]
  },
  {
   "cell_type": "code",
   "execution_count": 33,
   "metadata": {},
   "outputs": [
    {
     "data": {
      "text/plain": [
       "array([0.95, 0.96, 1.1 ])"
      ]
     },
     "execution_count": 33,
     "metadata": {},
     "output_type": "execute_result"
    }
   ],
   "source": [
    "data[0,:3]"
   ]
  },
  {
   "cell_type": "code",
   "execution_count": 34,
   "metadata": {},
   "outputs": [
    {
     "data": {
      "text/plain": [
       "array([0.95, 1.03, 1.08, 1.01, 1.03, 0.94, 1.  , 1.  , 1.07, 1.04])"
      ]
     },
     "execution_count": 34,
     "metadata": {},
     "output_type": "execute_result"
    }
   ],
   "source": [
    "data[:,0]"
   ]
  },
  {
   "cell_type": "markdown",
   "metadata": {},
   "source": [
    "## Mean of means and Standard error\n",
    "* Mean of means is the average of all mean values.\n",
    "* Standard error is the standard deviation of all mean values.\n",
    "\n",
    "To report a measured value, you must use\n",
    "$$\\text{mean of means} \\pm \\text{stadard error} $$"
   ]
  },
  {
   "cell_type": "code",
   "execution_count": 39,
   "metadata": {},
   "outputs": [
    {
     "name": "stdout",
     "output_type": "stream",
     "text": [
      "1.015\n",
      "1.028\n",
      "0.9900000000000002\n",
      "1.065\n",
      "1.0350000000000004\n"
     ]
    }
   ],
   "source": [
    "for j in range(5):\n",
    "    print(np.mean(data[:,j]))"
   ]
  },
  {
   "cell_type": "code",
   "execution_count": 40,
   "metadata": {},
   "outputs": [],
   "source": [
    "means = [1.015,1.028,0.9900000000000002,1.065,1.0350000000000004]"
   ]
  },
  {
   "cell_type": "code",
   "execution_count": 41,
   "metadata": {},
   "outputs": [
    {
     "name": "stdout",
     "output_type": "stream",
     "text": [
      "1.0266000000000002\n",
      "0.027482721844824563\n"
     ]
    }
   ],
   "source": [
    "print(np.mean(means))\n",
    "print(np.std(means,ddof=1))"
   ]
  },
  {
   "cell_type": "markdown",
   "metadata": {},
   "source": [
    "The measured period is \n",
    "$$ T = 1.03 \\pm 0.03 s $$\n",
    "\n",
    "* when you have approximately 10000 measurements, you can keep two significant figures in standard error"
   ]
  },
  {
   "cell_type": "markdown",
   "metadata": {},
   "source": [
    "### A quicker way (or lazy way) to report measured value\n",
    "Suppose a you have a set of measured values $\\{x_1, \\cdots, x_n\\}$, then the report value can be written as \n",
    "$$ \\langle x \\rangle \\pm \\frac{s_x}{\\sqrt{n}} $$"
   ]
  },
  {
   "cell_type": "code",
   "execution_count": 47,
   "metadata": {},
   "outputs": [
    {
     "name": "stdout",
     "output_type": "stream",
     "text": [
      "1.015\n",
      "0.014395215254459469\n"
     ]
    }
   ],
   "source": [
    "# suppose you only have 1 set of data, say[:,0]\n",
    "period = data[:,0]\n",
    "print(np.mean(period))\n",
    "print(np.std(period,ddof=1)/np.sqrt(10))"
   ]
  },
  {
   "cell_type": "markdown",
   "metadata": {},
   "source": [
    "$$ T = 1.02 \\pm 0.01 s $$"
   ]
  },
  {
   "cell_type": "code",
   "execution_count": null,
   "metadata": {},
   "outputs": [],
   "source": []
  },
  {
   "cell_type": "code",
   "execution_count": null,
   "metadata": {},
   "outputs": [],
   "source": []
  },
  {
   "cell_type": "code",
   "execution_count": null,
   "metadata": {},
   "outputs": [],
   "source": []
  }
 ],
 "metadata": {
  "kernelspec": {
   "display_name": "Python 3",
   "language": "python",
   "name": "python3"
  },
  "language_info": {
   "codemirror_mode": {
    "name": "ipython",
    "version": 3
   },
   "file_extension": ".py",
   "mimetype": "text/x-python",
   "name": "python",
   "nbconvert_exporter": "python",
   "pygments_lexer": "ipython3",
   "version": "3.8.5"
  }
 },
 "nbformat": 4,
 "nbformat_minor": 4
}
